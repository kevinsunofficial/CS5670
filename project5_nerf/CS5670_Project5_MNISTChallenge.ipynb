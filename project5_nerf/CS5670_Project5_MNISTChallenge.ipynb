{
  "cells": [
    {
      "cell_type": "markdown",
      "metadata": {
        "id": "CJ1zvCUxhz_Y"
      },
      "source": [
        "# CS5670 Project 5 - MNIST Challenge Notebook\n",
        "\n",
        "Welcome to the Project 5 4-credit MNIST Challenge.\n",
        "\n",
        "In this notebook you will create and train your own neural network model in PyTorch for classifying handwritten digits on the MNIST dataset.\n",
        "We will pretend that we are targeting low-power and low-memory devices, and so you will have to limit the number of model parameters that you use."
      ]
    },
    {
      "cell_type": "markdown",
      "metadata": {
        "id": "4OvSJugE7bql"
      },
      "source": [
        "## Installation of Dependencies\n",
        "\n",
        "First you want to **make sure that you're using the GPU backend**.\n",
        "\n",
        "* Go to Runtime -> Change runtime type and choose \"GPU\" under Hardware Accelerator.\n",
        "* Only then run the next cell. It should print \"GPU Support: True\""
      ]
    },
    {
      "cell_type": "code",
      "execution_count": 1,
      "metadata": {
        "id": "x4Wlyq6F7Vny",
        "colab": {
          "base_uri": "https://localhost:8080/"
        },
        "outputId": "3279150b-24f3-4290-ad45-5c8e3557951f"
      },
      "outputs": [
        {
          "output_type": "stream",
          "name": "stdout",
          "text": [
            "Looking in indexes: https://pypi.org/simple, https://us-python.pkg.dev/colab-wheels/public/simple/\n",
            "Collecting pillow==7.1.2\n",
            "  Downloading Pillow-7.1.2.tar.gz (38.9 MB)\n",
            "\u001b[2K     \u001b[90m━━━━━━━━━━━━━━━━━━━━━━━━━━━━━━━━━━━━━━━━\u001b[0m \u001b[32m38.9/38.9 MB\u001b[0m \u001b[31m9.3 MB/s\u001b[0m eta \u001b[36m0:00:00\u001b[0m\n",
            "\u001b[?25h  Preparing metadata (setup.py) ... \u001b[?25l\u001b[?25hdone\n",
            "Building wheels for collected packages: pillow\n",
            "  Building wheel for pillow (setup.py) ... \u001b[?25l\u001b[?25hdone\n",
            "  Created wheel for pillow: filename=Pillow-7.1.2-cp310-cp310-linux_x86_64.whl size=1301422 sha256=ac38feae17b85fdfb1242725bd987d103a069d6a4baf218d401f85ed8d94f461\n",
            "  Stored in directory: /root/.cache/pip/wheels/b1/33/ce/d1c30cb9fc3ba1b8e60a01d4f49e35a1e65b6911bd3722e3e9\n",
            "Successfully built pillow\n",
            "Installing collected packages: pillow\n",
            "  Attempting uninstall: pillow\n",
            "    Found existing installation: Pillow 8.4.0\n",
            "    Uninstalling Pillow-8.4.0:\n",
            "      Successfully uninstalled Pillow-8.4.0\n",
            "\u001b[31mERROR: pip's dependency resolver does not currently take into account all the packages that are installed. This behaviour is the source of the following dependency conflicts.\n",
            "imageio 2.25.1 requires pillow>=8.3.2, but you have pillow 7.1.2 which is incompatible.\u001b[0m\u001b[31m\n",
            "\u001b[0mSuccessfully installed pillow-7.1.2\n",
            "Python 3.10.11\n",
            "2.0.0+cu118\n",
            "0.15.1+cu118\n",
            "GPU Support: True\n"
          ]
        }
      ],
      "source": [
        "# http://pytorch.org/\n",
        "from os import path\n",
        "!pip install pillow==7.1.2\n",
        "!python --version\n",
        "import torch\n",
        "print(torch. __version__)\n",
        "import torchvision\n",
        "print(torchvision. __version__)\n",
        "print(f\"GPU Support: {torch.cuda.is_available()}\")"
      ]
    },
    {
      "cell_type": "markdown",
      "metadata": {
        "id": "XHLKy2Ekqoq4"
      },
      "source": [
        "## Useful functions\n",
        "\n",
        "Run the below cell to define functions that will be used later"
      ]
    },
    {
      "cell_type": "code",
      "execution_count": 2,
      "metadata": {
        "id": "XPWrOExkqysJ",
        "colab": {
          "base_uri": "https://localhost:8080/"
        },
        "outputId": "f6c14238-f148-43b6-885f-6831913f00d9"
      },
      "outputs": [
        {
          "output_type": "stream",
          "name": "stderr",
          "text": [
            "<ipython-input-2-68c90f9552ba>:12: DeprecationWarning: Please use `gaussian_filter` from the `scipy.ndimage` namespace, the `scipy.ndimage.filters` namespace is deprecated.\n",
            "  from scipy.ndimage.filters import gaussian_filter\n"
          ]
        }
      ],
      "source": [
        "import torch\n",
        "import torch.nn as nn\n",
        "import torch.nn.functional as F\n",
        "import torchvision\n",
        "from torch.autograd import Variable\n",
        "\n",
        "import urllib\n",
        "import cv2\n",
        "import numpy as np\n",
        "import os, sys,  math, random, subprocess\n",
        "import matplotlib.pyplot as plt\n",
        "from scipy.ndimage.filters import gaussian_filter\n",
        "from IPython.display import clear_output, Image, display, HTML\n",
        "from google.protobuf import text_format\n",
        "from io import StringIO\n",
        "import PIL.Image\n",
        "\n",
        "def get_n_params(module):\n",
        "  nparam = 0\n",
        "  for name, param in module.named_parameters():\n",
        "    param_count = 1\n",
        "    for size in list(param.size()):\n",
        "      param_count *= size\n",
        "    nparam += param_count\n",
        "  return nparam\n",
        "\n",
        "def get_model_params(model):\n",
        "  nparam = 0\n",
        "  for name, module in model.named_modules():\n",
        "    nparam += get_n_params(module)\n",
        "  return nparam\n",
        "\n",
        "def to_numpy_image(tensor_or_variable):\n",
        "  \n",
        "  # If this is already a numpy image, just return it\n",
        "  if type(tensor_or_variable) == np.ndarray:\n",
        "    return tensor_or_variable\n",
        "  \n",
        "  # Make sure this is a tensor and not a variable\n",
        "  if type(tensor_or_variable) == Variable:\n",
        "    tensor = tensor_or_variable.data\n",
        "  else:\n",
        "    tensor = tensor_or_variable\n",
        "  \n",
        "  # Convert to numpy and move to CPU if necessary\n",
        "  np_img = tensor.cpu().numpy()\n",
        "  \n",
        "  # If there is no batch dimension, add one\n",
        "  if len(np_img.shape) == 3:\n",
        "    np_img = np_img[np.newaxis, ...]\n",
        "  \n",
        "  # Convert from BxCxHxW (PyTorch convention) to BxHxWxC (OpenCV/numpy convention)\n",
        "  np_img = np_img.transpose(0, 2, 3, 1)\n",
        "  \n",
        "  return np_img\n",
        "\n",
        "def normalize_zero_one_range(tensor_like):\n",
        "  x = tensor_like - tensor_like.min()\n",
        "  x = x / (x.max() + 1e-9)\n",
        "  return x\n",
        "\n",
        "def prep_for_showing(image):\n",
        "  np_img = to_numpy_image(image)\n",
        "  if len(np_img.shape) > 3:\n",
        "    np_img = np_img[0]\n",
        "  np_img = normalize_zero_one_range(np_img)\n",
        "  return np_img\n",
        "\n",
        "def show_image(tensor_var_or_np, title=None, bordercolor=None):\n",
        "  np_img = prep_for_showing(tensor_var_or_np)\n",
        "  \n",
        "  if bordercolor is not None:\n",
        "    np_img = draw_border(np_img, bordercolor)\n",
        "  \n",
        "  # plot it\n",
        "  np_img = np_img.squeeze()\n",
        "  plt.figure(figsize=(4,4))\n",
        "  plt.imshow(np_img)\n",
        "  plt.axis('off')\n",
        "  if title: plt.title(title)\n",
        "  plt.show()"
      ]
    },
    {
      "cell_type": "markdown",
      "metadata": {
        "id": "CJiMTcx9qr5Z"
      },
      "source": [
        "## Training Data\n",
        "\n",
        "We will use the [MNIST handrwritten digit dataset](http://yann.lecun.com/exdb/mnist/) to train our neural network models. There is a simple wrapper for the MNIST dataset in the torchvision package that implements the Dataset class. We will use that in conjunction with the DataLoader to load training data. Run the below cell to download and initialize our training and test datasets. You should see an example batch of images and their labels shown."
      ]
    },
    {
      "cell_type": "code",
      "execution_count": 3,
      "metadata": {
        "id": "hURbcBfwqUrY",
        "colab": {
          "base_uri": "https://localhost:8080/",
          "height": 599
        },
        "outputId": "8f2e68f7-e373-4a8e-d53d-b4e100f65f4c"
      },
      "outputs": [
        {
          "output_type": "stream",
          "name": "stdout",
          "text": [
            "Downloading http://yann.lecun.com/exdb/mnist/train-images-idx3-ubyte.gz\n",
            "Downloading http://yann.lecun.com/exdb/mnist/train-images-idx3-ubyte.gz to ./data/MNIST/raw/train-images-idx3-ubyte.gz\n"
          ]
        },
        {
          "output_type": "stream",
          "name": "stderr",
          "text": [
            "100%|██████████| 9912422/9912422 [00:00<00:00, 96078606.89it/s]\n"
          ]
        },
        {
          "output_type": "stream",
          "name": "stdout",
          "text": [
            "Extracting ./data/MNIST/raw/train-images-idx3-ubyte.gz to ./data/MNIST/raw\n",
            "\n",
            "Downloading http://yann.lecun.com/exdb/mnist/train-labels-idx1-ubyte.gz\n",
            "Downloading http://yann.lecun.com/exdb/mnist/train-labels-idx1-ubyte.gz to ./data/MNIST/raw/train-labels-idx1-ubyte.gz\n"
          ]
        },
        {
          "output_type": "stream",
          "name": "stderr",
          "text": [
            "100%|██████████| 28881/28881 [00:00<00:00, 93976488.61it/s]\n"
          ]
        },
        {
          "output_type": "stream",
          "name": "stdout",
          "text": [
            "Extracting ./data/MNIST/raw/train-labels-idx1-ubyte.gz to ./data/MNIST/raw\n",
            "\n",
            "Downloading http://yann.lecun.com/exdb/mnist/t10k-images-idx3-ubyte.gz\n",
            "Downloading http://yann.lecun.com/exdb/mnist/t10k-images-idx3-ubyte.gz to ./data/MNIST/raw/t10k-images-idx3-ubyte.gz\n"
          ]
        },
        {
          "output_type": "stream",
          "name": "stderr",
          "text": [
            "100%|██████████| 1648877/1648877 [00:00<00:00, 27615404.32it/s]\n"
          ]
        },
        {
          "output_type": "stream",
          "name": "stdout",
          "text": [
            "Extracting ./data/MNIST/raw/t10k-images-idx3-ubyte.gz to ./data/MNIST/raw\n",
            "\n",
            "Downloading http://yann.lecun.com/exdb/mnist/t10k-labels-idx1-ubyte.gz\n",
            "Downloading http://yann.lecun.com/exdb/mnist/t10k-labels-idx1-ubyte.gz to ./data/MNIST/raw/t10k-labels-idx1-ubyte.gz\n"
          ]
        },
        {
          "output_type": "stream",
          "name": "stderr",
          "text": [
            "100%|██████████| 4542/4542 [00:00<00:00, 17837573.75it/s]"
          ]
        },
        {
          "output_type": "stream",
          "name": "stdout",
          "text": [
            "Extracting ./data/MNIST/raw/t10k-labels-idx1-ubyte.gz to ./data/MNIST/raw\n",
            "\n"
          ]
        },
        {
          "output_type": "stream",
          "name": "stderr",
          "text": [
            "\n"
          ]
        },
        {
          "output_type": "display_data",
          "data": {
            "text/plain": [
              "<Figure size 400x400 with 1 Axes>"
            ],
            "image/png": "[encoded data removed]"
          },
          "metadata": {}
        },
        {
          "output_type": "stream",
          "name": "stdout",
          "text": [
            "GroundTruth:  tensor(7) tensor(2) tensor(1) tensor(0) tensor(4) tensor(1) tensor(4) tensor(9) tensor(5) tensor(9) tensor(0) tensor(6) tensor(9) tensor(0) tensor(1) tensor(5) tensor(9) tensor(7) tensor(3) tensor(4) tensor(9) tensor(6) tensor(6) tensor(5) tensor(4) tensor(0) tensor(7) tensor(4) tensor(0) tensor(1) tensor(3) tensor(1)\n"
          ]
        }
      ],
      "source": [
        "import torchvision\n",
        "import torchvision.transforms as transforms\n",
        "\n",
        "BATCH_SIZE = 32\n",
        "\n",
        "transform = transforms.Compose(\n",
        "    [transforms.ToTensor(),\n",
        "     transforms.Normalize((0.5), (0.5))])\n",
        "\n",
        "trainset = torchvision.datasets.MNIST(root='./data', train=True,\n",
        "                                        download=True, transform=transform)\n",
        "trainloader = torch.utils.data.DataLoader(trainset, batch_size=BATCH_SIZE,\n",
        "                                          shuffle=True, num_workers=2)\n",
        "\n",
        "testset = torchvision.datasets.MNIST(root='./data', train=False,\n",
        "                                       download=True, transform=transform)\n",
        "testloader = torch.utils.data.DataLoader(testset, batch_size=BATCH_SIZE,\n",
        "                                         shuffle=False, num_workers=2)\n",
        "\n",
        "# get some random training images\n",
        "dataiter = iter(trainloader)\n",
        "images, labels = next(dataiter)\n",
        "\n",
        "dataiter = iter(testloader)\n",
        "images, labels = next(dataiter)\n",
        "\n",
        "# print images\n",
        "show_image(torchvision.utils.make_grid(images))\n",
        "print('GroundTruth: ', ' '.join('%5s' % labels[j] for j in range(BATCH_SIZE)))"
      ]
    },
    {
      "cell_type": "markdown",
      "metadata": {
        "id": "BfN6oCjwrqR1"
      },
      "source": [
        "## Model Definition (Example Model)\n",
        "\n",
        "This is an example model provided to you. It is pretty good and it reaches >98% accuracy on the test set, but we can do better. In particular, we will try to break the 99% accuracy barrier with a tight limit on the number of model parameters."
      ]
    },
    {
      "cell_type": "code",
      "execution_count": 4,
      "metadata": {
        "id": "jjvxIDrXrujd",
        "colab": {
          "base_uri": "https://localhost:8080/"
        },
        "outputId": "e876c512-1035-4ae9-cbb8-ef922efe218c"
      },
      "outputs": [
        {
          "output_type": "stream",
          "name": "stdout",
          "text": [
            "Model number of parameters: 20842\n"
          ]
        }
      ],
      "source": [
        "class ExampleModel(nn.Module):\n",
        "    def __init__(self):\n",
        "        super(ExampleModel, self).__init__()\n",
        "        # Convolution. Input channels: 1, output channels: 6, kernel size: 5\n",
        "        self.conv1 = nn.Conv2d(1, 6, 5)\n",
        "        # Max-pooling layer that will halve the HxW resolution\n",
        "        self.pool = nn.MaxPool2d(2, 2)\n",
        "        # Another 5x5 convolution that brings channel count up to 16\n",
        "        self.conv2 = nn.Conv2d(6, 16, 5)\n",
        "        \n",
        "        # Three fully connected layers\n",
        "        self.fc1 = nn.Linear(16 * 4 * 4, 60)\n",
        "        self.fc2 = nn.Linear(60, 40)\n",
        "        self.fc3 = nn.Linear(40, 10)\n",
        "\n",
        "    def forward(self, x):\n",
        "        # Apply convolution, activation and pooling\n",
        "        # Output width after convolution = (input_width - (kernel_size - 1) / 2)\n",
        "        # Output width after pooling = input_width / 2\n",
        "        \n",
        "        # x.size() = Bx1x28x28\n",
        "        x = self.pool(F.relu(self.conv1(x)))\n",
        "        # x.size() = Bx6x12x12\n",
        "        x = self.pool(F.relu(self.conv2(x)))\n",
        "        # x.size() = Bx16x4x4\n",
        "        \n",
        "        # Flatten the output\n",
        "        x = x.view(-1, 16 * 4 * 4)\n",
        "        x = F.relu(self.fc1(x))\n",
        "        x = F.relu(self.fc2(x))\n",
        "        x = self.fc3(x)\n",
        "        return x\n",
        "\n",
        "\n",
        "net = ExampleModel()\n",
        "\n",
        "nparams = get_n_params(net)\n",
        "print(f\"Model number of parameters: {nparams}\")"
      ]
    },
    {
      "cell_type": "markdown",
      "metadata": {
        "id": "ujgr4bu-wdD4"
      },
      "source": [
        "## Model Definition (Your Model)\n",
        "\n",
        "Define your own model here. It should satisfy the following constraints:\n",
        "<font color=\"red\">\n",
        "*** Number of total model parameters: < 50000**\n",
        "<br/>\n",
        "*** Reaches test-set accuracy greater than or equal to 99% after training for 10 epochs**\n",
        "</font>\n",
        "  \n",
        "A couple of ideas you can try:\n",
        "* Different model structure (e.g. more layers, smaller/bigger kernels)\n",
        "* Residual connections\n",
        "* Batch [2] / Layer Normalization [3]\n",
        "* Densely connected architectures [1]\n",
        "\n",
        "<font size=\"1em\">[1] Huang, G., Liu, Z., Weinberger, K. Q., & van der Maaten, L. (2017, July). Densely connected convolutional networks. In Proceedings of the IEEE conference on computer vision and pattern recognition (Vol. 1, No. 2, p. 3).</font>\n",
        "</br>\n",
        "<font size=\"1em\">[2] Ioffe, S., & Szegedy, C. (2015). Batch normalization: Accelerating deep network training by reducing internal covariate shift. arXiv preprint arXiv:1502.03167.</font>\n",
        "</br>\n",
        "<font size=\"1em\">[3] Ba, J. L., Kiros, J. R., & Hinton, G. E. (2016). Layer normalization. arXiv preprint arXiv:1607.06450.\n",
        "</font>"
      ]
    },
    {
      "cell_type": "code",
      "execution_count": 43,
      "metadata": {
        "id": "k2CMdk8LKGdW",
        "colab": {
          "base_uri": "https://localhost:8080/"
        },
        "outputId": "433f1c31-2c28-4da4-eb75-317c55189d75"
      },
      "outputs": [
        {
          "output_type": "stream",
          "name": "stdout",
          "text": [
            "Model number of parameters: 46150\n"
          ]
        }
      ],
      "source": [
        "class StudentModel(nn.Module):\n",
        "    def __init__(self):\n",
        "        super(StudentModel, self).__init__()\n",
        "        # Define your modules here\n",
        "\n",
        "        self.conv1 = nn.Conv2d(1, 32, 3)\n",
        "        self.conv2 = nn.Conv2d(32, 16, 3)\n",
        "        self.pool = nn.MaxPool2d(2, 2)\n",
        "        self.norm1 = nn.BatchNorm2d(32)\n",
        "        self.norm2 = nn.BatchNorm2d(16)\n",
        "        self.drop = nn.Dropout(0.1)\n",
        "        self.fc1 = nn.Linear(16*5*5, 100)\n",
        "        self.fc2 = nn.Linear(100, 10)\n",
        "        \n",
        "\n",
        "    def forward(self, x):\n",
        "        # Define your dynamic computational graph here\n",
        "\n",
        "        # Output width after convolution = (input_width - (kernel_size - 1) / 2)\n",
        "        # Output width after pooling = input_width / 2\n",
        "        \n",
        "        # x = 1x28x28\n",
        "        x = self.pool(self.norm1(F.relu(self.conv1(x))))\n",
        "        # x = 32x13x13\n",
        "        x = self.pool(self.norm2(F.relu(self.conv2(x))))\n",
        "        # x = 16x5x5\n",
        "        x = x.view(-1, 16*5*5)\n",
        "        x = F.relu(self.fc1(self.drop(x)))\n",
        "        x = self.fc2(self.drop(x))\n",
        "\n",
        "        return x\n",
        "\n",
        "\n",
        "net = StudentModel()\n",
        "\n",
        "nparams = get_n_params(net)\n",
        "print(f\"Model number of parameters: {nparams}\")\n",
        "\n",
        "assert nparams < 50000, \"Too many model parameters!\""
      ]
    },
    {
      "cell_type": "markdown",
      "metadata": {
        "id": "7NBY2H8yrgRE"
      },
      "source": [
        "## Training Loop\n",
        "\n",
        "Run the following training loop to train your model. **Uncomment the line `net = StudentModel()` to use your model instead of the example model**."
      ]
    },
    {
      "cell_type": "code",
      "execution_count": 44,
      "metadata": {
        "id": "EVzqqVy9rfLk",
        "colab": {
          "base_uri": "https://localhost:8080/"
        },
        "outputId": "0567f463-0aaa-4a29-bbea-d281516c5cdb"
      },
      "outputs": [
        {
          "output_type": "stream",
          "name": "stdout",
          "text": [
            "Using GPU\n",
            "[1,   900] loss: 3.478\n",
            "[1,  1800] loss: 0.959\n",
            "[2,   900] loss: 0.696\n",
            "[2,  1800] loss: 0.618\n",
            "[3,   900] loss: 0.535\n",
            "[3,  1800] loss: 0.500\n",
            "[4,   900] loss: 0.467\n",
            "[4,  1800] loss: 0.405\n",
            "[5,   900] loss: 0.385\n",
            "[5,  1800] loss: 0.371\n",
            "[6,   900] loss: 0.349\n",
            "[6,  1800] loss: 0.339\n",
            "[7,   900] loss: 0.315\n",
            "[7,  1800] loss: 0.311\n",
            "[8,   900] loss: 0.302\n",
            "[8,  1800] loss: 0.288\n",
            "[9,   900] loss: 0.258\n",
            "[9,  1800] loss: 0.266\n",
            "[10,   900] loss: 0.244\n",
            "[10,  1800] loss: 0.248\n",
            "Finished Training\n"
          ]
        }
      ],
      "source": [
        "import torch.optim as optim\n",
        "PRINT_EVERY = 900\n",
        "\n",
        "#-----------------------------------------------------------------------------\n",
        "# Comment this line:\n",
        "# net = ExampleModel()\n",
        "\n",
        "# Uncomment this line\n",
        "net = StudentModel()\n",
        "#-----------------------------------------------------------------------------\n",
        "\n",
        "if type(net) == ExampleModel:\n",
        "  print(\"WARNING! Running example model. Uncomment line to run your own model!\")\n",
        "\n",
        "#-----------------------------------------------------------------------------\n",
        "\n",
        "criterion = nn.CrossEntropyLoss()\n",
        "optimizer = optim.SGD(net.parameters(), lr=0.001, momentum=0.9)\n",
        "\n",
        "USE_CUDA = torch.cuda.is_available()\n",
        "\n",
        "if USE_CUDA:\n",
        "  net = net.cuda()\n",
        "  print(\"Using GPU\")\n",
        "else:\n",
        "  print(\"Not using GPU\")\n",
        "  \n",
        "net.train()\n",
        "  \n",
        "for epoch in range(10):  # loop over the dataset multiple times\n",
        "\n",
        "    running_loss = 0.0\n",
        "    for i, data in enumerate(trainloader, 0):\n",
        "        # get the inputs\n",
        "        inputs, labels = data\n",
        "        \n",
        "        inputs = Variable(inputs)\n",
        "        labels = Variable(labels)\n",
        "        \n",
        "        if USE_CUDA:\n",
        "          inputs = inputs.cuda()\n",
        "          labels = labels.cuda()\n",
        "        \n",
        "        # zero the parameter gradients\n",
        "        optimizer.zero_grad()\n",
        "\n",
        "        # forward + backward + optimize\n",
        "        outputs = net(inputs)\n",
        "        loss = criterion(outputs, labels)\n",
        "        loss.backward()\n",
        "        optimizer.step()\n",
        "\n",
        "        # print statistics\n",
        "        running_loss += loss.data\n",
        "        if i % PRINT_EVERY == PRINT_EVERY - 1:    # print every PRINT_EVERY mini-batches\n",
        "            #show_image(torchvision.utils.make_grid(inputs.data))\n",
        "            print('[%d, %5d] loss: %.3f' %\n",
        "                  (epoch + 1, i + 1, running_loss / 100))\n",
        "            running_loss = 0.0\n",
        "\n",
        "print('Finished Training')"
      ]
    },
    {
      "cell_type": "markdown",
      "metadata": {
        "id": "W0SLImjx1QE1"
      },
      "source": [
        "## Testing\n",
        "\n",
        "Use the below cell to test your model on the MNIST test set. By right you should only run your model on the test set once, before publishing your results. In this assignment, we will allow you to re-use the test set, which is technically an incorrect practice."
      ]
    },
    {
      "cell_type": "code",
      "execution_count": 45,
      "metadata": {
        "id": "jo1Zkn5EyNG7",
        "colab": {
          "base_uri": "https://localhost:8080/"
        },
        "outputId": "5a8a3d94-2372-4d31-dbda-6862d1e997dd"
      },
      "outputs": [
        {
          "output_type": "stream",
          "name": "stderr",
          "text": [
            "<ipython-input-45-6359356f86f4>:8: UserWarning: volatile was removed and now has no effect. Use `with torch.no_grad():` instead.\n",
            "  images = Variable(images, volatile=True)\n"
          ]
        },
        {
          "output_type": "stream",
          "name": "stdout",
          "text": [
            "Accuracy of the network on the 10000 test images: 99.05999755859375%\n",
            "Correct: 9906/10000\n",
            "\n",
            "Congratulations! You beat the 99% barrier!\n"
          ]
        }
      ],
      "source": [
        "correct = 0\n",
        "total = 0\n",
        "\n",
        "net.eval()\n",
        "\n",
        "for data in testloader:\n",
        "    images, labels = data\n",
        "    images = Variable(images, volatile=True)\n",
        "    if USE_CUDA:\n",
        "      images, labels = images.cuda(), labels.cuda()\n",
        "    \n",
        "    outputs = net(images)\n",
        "    _, predicted = torch.max(outputs.data, 1)\n",
        "    total += labels.size(0)\n",
        "    correct += (predicted == labels).sum()\n",
        "\n",
        "acc = 100 * correct / total\n",
        "    \n",
        "print(f'Accuracy of the network on the 10000 test images: {acc}%')\n",
        "print(f'Correct: {correct}/{total}')\n",
        "print(\"\")\n",
        "\n",
        "from IPython.display import Markdown, display\n",
        "\n",
        "if acc >= 99:\n",
        "  print(\"Congratulations! You beat the 99% barrier!\")\n",
        "else:\n",
        "  print(\"Sorry, but you can do better. Try again!\")"
      ]
    },
    {
      "cell_type": "markdown",
      "metadata": {
        "id": "KmLl5haX4Om_"
      },
      "source": [
        "### Per-class accuracy\n",
        "\n",
        "Run the below cell to see which digits your model is better at recognizing and which digits it gets confused by."
      ]
    },
    {
      "cell_type": "code",
      "execution_count": 46,
      "metadata": {
        "id": "qp8POK0dyOKn",
        "colab": {
          "base_uri": "https://localhost:8080/"
        },
        "outputId": "086aa540-809b-4364-dac1-ca357e22cfec"
      },
      "outputs": [
        {
          "output_type": "stream",
          "name": "stderr",
          "text": [
            "<ipython-input-46-0696d5b0e686>:6: UserWarning: volatile was removed and now has no effect. Use `with torch.no_grad():` instead.\n",
            "  images = Variable(images, volatile=True)\n"
          ]
        },
        {
          "output_type": "stream",
          "name": "stdout",
          "text": [
            "Accuracy of     0 : 99 %\n",
            "Accuracy of     1 : 99 %\n",
            "Accuracy of     2 : 97 %\n",
            "Accuracy of     3 : 98 %\n",
            "Accuracy of     4 : 100 %\n",
            "Accuracy of     5 : 98 %\n",
            "Accuracy of     6 : 99 %\n",
            "Accuracy of     7 : 99 %\n",
            "Accuracy of     8 : 99 %\n",
            "Accuracy of     9 : 100 %\n"
          ]
        }
      ],
      "source": [
        "class_correct = list(0. for i in range(10))\n",
        "class_total = list(0. for i in range(10))\n",
        "\n",
        "for data in testloader:\n",
        "    images, labels = data\n",
        "    images = Variable(images, volatile=True)\n",
        "    if USE_CUDA:\n",
        "      images, labels = images.cuda(), labels.cuda()\n",
        "    \n",
        "    outputs = net(images)\n",
        "    \n",
        "    _, predicted = torch.max(outputs.data, 1)\n",
        "    c = (predicted == labels).squeeze()\n",
        "    for i in range(4):\n",
        "        label = labels[i]\n",
        "        class_correct[label] += c[i]\n",
        "        class_total[label] += 1\n",
        "\n",
        "\n",
        "for i in range(10):\n",
        "    print('Accuracy of %5s : %2d %%' % (i, 100 * class_correct[i] / class_total[i]))"
      ]
    }
  ],
  "metadata": {
    "accelerator": "GPU",
    "colab": {
      "provenance": [],
      "toc_visible": true
    },
    "kernelspec": {
      "display_name": "Python 3",
      "language": "python",
      "name": "python3"
    },
    "language_info": {
      "codemirror_mode": {
        "name": "ipython",
        "version": 2
      },
      "file_extension": ".py",
      "mimetype": "text/x-python",
      "name": "python",
      "nbconvert_exporter": "python",
      "pygments_lexer": "ipython2",
      "version": "2.7.15"
    }
  },
  "nbformat": 4,
  "nbformat_minor": 0
}